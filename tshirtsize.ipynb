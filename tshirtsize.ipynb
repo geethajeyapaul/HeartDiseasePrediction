{
 "cells": [
  {
   "cell_type": "markdown",
   "metadata": {},
   "source": [
    "Predicting T-shirt size using the ANSUR II dataset\n",
    "We will here try to predict a persons t-shirt size given the weight and height of the person. We will use the ANSUR II dataset which contains a lot of information about the physical attributes of a large number of people.\n",
    "\n",
    "We will first try to map the persons in the dataset to a t-shirt size. It is hard to find a concise size chart for t-shirt so we will create our own, initial chart, based on these assumptions:\n",
    "\n",
    "We will only look at two measurements, Shoulder Width and Chest Circumference.\n",
    "\n",
    "Our first problem is that Shoulder Width is not one of the measurements taken in the dataset. But we have Biacromial Breadth which is the distance between the two acromion processes. We will assume that this is the same as Shoulder Width.\n",
    "\n",
    "We will then have these initial rules:\n",
    "\n",
    "Size\tPercentile\n",
    "XS\t0-5\n",
    "S\t5-25\n",
    "M\t25-50\n",
    "L\t50-75\n",
    "XL\t75-90\n",
    "XXL\t90-97\n",
    "XXXL\t97-100"
   ]
  },
  {
   "cell_type": "markdown",
   "metadata": {},
   "source": [
    "Size\tPercentile\n",
    "XS\t0-5\n",
    "S\t5-25\n",
    "M\t25-50\n",
    "L\t50-75\n",
    "XL\t75-90\n",
    "XXL\t90-97\n",
    "XXXL\t97-100"
   ]
  }
 ],
 "metadata": {
  "kernelspec": {
   "display_name": "venv",
   "language": "python",
   "name": "python3"
  },
  "language_info": {
   "codemirror_mode": {
    "name": "ipython",
    "version": 3
   },
   "file_extension": ".py",
   "mimetype": "text/x-python",
   "name": "python",
   "nbconvert_exporter": "python",
   "pygments_lexer": "ipython3",
   "version": "3.11.3"
  }
 },
 "nbformat": 4,
 "nbformat_minor": 2
}
