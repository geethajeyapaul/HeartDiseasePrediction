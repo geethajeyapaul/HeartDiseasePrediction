{
 "cells": [
  {
   "cell_type": "markdown",
   "metadata": {},
   "source": [
    "Predicting heart disease\n"
   ]
  },
  {
   "cell_type": "markdown",
   "metadata": {},
   "source": [
    "In this prediction, we will try to find the presence of heart disease in a patient. This data set dates from 80's and consists of four databases: Cleveland, Hungary, Switzerland, and Long Beach V.\n",
    "\n",
    "The goal field represents if that the patient has a heart disease or not.\n",
    "\n",
    "The dataset has been taken from kaggle.com/. In this dataset we have totally of 14 columns. "
   ]
  },
  {
   "cell_type": "markdown",
   "metadata": {},
   "source": [
    "1. Age\n",
    "2. Sex\n",
    "3. Chest paintype (4 values)\n",
    "4. Resting bloodpressure \n",
    "5. Serum Cholestrol level in mg/dl\n",
    "6. Fasting bloodsugar > 120 mg/dl\n",
    "7. Resting electrocardiographic result (values 0,1,2)\n",
    "8. Maximum heartrate achieved.\n",
    "9. Exercise induced angina.\n",
    "10.oldpeak = ST depression induced by exercise relative to rest.\n",
    "11.The slope of the peak exercise ST segment.\n",
    "12.Number of major vessels (0-3)colored by flourosopy.\n",
    "13.thal 3 = normal; 6 = fixed defect; 7 = reversable defect\n",
    "\n",
    "The last column is the target column, it contains the value 0 or 1. 0 represents that the person is healthy and 1 represents that the patient has heartdisease.\n"
   ]
  }
 ],
 "metadata": {
  "language_info": {
   "name": "python"
  }
 },
 "nbformat": 4,
 "nbformat_minor": 2
}
